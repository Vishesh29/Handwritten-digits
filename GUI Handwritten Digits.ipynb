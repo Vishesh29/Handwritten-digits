{
 "cells": [
  {
   "cell_type": "code",
   "execution_count": 2,
   "metadata": {},
   "outputs": [
    {
     "name": "stdout",
     "output_type": "stream",
     "text": [
      "Path Already Exists\n"
     ]
    }
   ],
   "source": [
    "import tkinter as tk\n",
    "from PIL import ImageTk,Image,ImageDraw\n",
    "import PIL\n",
    "import cv2\n",
    "import numpy as np\n",
    "import os\n",
    "from matplotlib import pyplot as plt\n",
    "\n",
    "try:\n",
    "    os.mkdir('data')\n",
    "except:\n",
    "    print('Path Already Exists')\n",
    "\n",
    "width,height=500,500\n",
    "\n",
    "win=tk.Tk()            # main window\n",
    "\n",
    "font_btn='Helvetica 20 bold'\n",
    "font_label='Helvetica 24 bold'\n",
    "count=0\n",
    "\n",
    "import joblib\n",
    "\n",
    "clsfr=joblib.load('KNN-Handwritten-Written-Digits.sav')\n",
    "\n",
    "def event_function(event):\n",
    "\n",
    "    x=event.x       #x coordinate of mouse pointer\n",
    "    y=event.y       #y coordinate of mouse pointer\n",
    "\n",
    "    x1=x-30\n",
    "    y1=y-30\n",
    "\n",
    "    x2=x+30\n",
    "    y2=y+30\n",
    "    \n",
    "    canvas.create_oval((x1,y1,x2,y2),fill='black')\n",
    "    img_draw.ellipse((x1,y1,x2,y2),fill='white')\n",
    "\n",
    "def save():\n",
    "\n",
    "    global count\n",
    "    \n",
    "    img_array=np.array(img)\n",
    "    img_array=cv2.resize(img_array,(8,8))\n",
    "\n",
    "    path=os.path.join('data',str(count)+'.jpg')\n",
    "    #path=data/0.jpg\n",
    "    \n",
    "    cv2.imwrite(path,img_array)\n",
    "\n",
    "    count=count+1\n",
    "\n",
    "def clear():\n",
    "\n",
    "    global img,img_draw\n",
    "\n",
    "    canvas.delete('all')\n",
    "    img=Image.new('RGB',(width,height),(0,0,0))\n",
    "    img_draw=ImageDraw.Draw(img)\n",
    "    label_status.config(text='PREDICTED DIGIT: NONE')\n",
    "\n",
    "def predict():\n",
    "    \n",
    "    img_array=np.array(img) #converting to numpy array\n",
    "    img_array=cv2.cvtColor(img_array,cv2.COLOR_BGR2GRAY) #converting into a gray image\n",
    "    img_array=cv2.resize(img_array,(8,8)) #resizing into 8x8\n",
    "\n",
    "    #plt.imshow(img_array,cmap='binary')\n",
    "    \n",
    "    img_array=np.reshape(img_array,(1,64))  #reshaping into 1x64\n",
    "    img_array=img_array/255.0*15.0\n",
    "\n",
    "    result=clsfr.predict(img_array)\n",
    "\n",
    "    label_status.config(text='PREDICTED DIGIT:'+str(result))\n",
    "    \n",
    "    plt.show()\n",
    "    \n",
    "canvas=tk.Canvas(win,width=width,height=height,bg='white')\n",
    "canvas.grid(row=0,column=0,columnspan=4)\n",
    "\n",
    "button_save=tk.Button(win,text='SAVE',bg='green',fg='white',font=font_btn,command=save)\n",
    "button_save.grid(row=1,column=0)\n",
    "\n",
    "button_predict=tk.Button(win,text='PREDICT',bg='blue',fg='white',font=font_btn,command=predict)\n",
    "button_predict.grid(row=1,column=1)\n",
    "\n",
    "button_clear=tk.Button(win,text='CLEAR',bg='yellow',fg='white',font=font_btn,command=clear)\n",
    "button_clear.grid(row=1,column=2)\n",
    "\n",
    "button_exit=tk.Button(win,text='EXIT',bg='red',fg='white',font=font_btn,command=win.destroy)\n",
    "button_exit.grid(row=1,column=3)\n",
    "\n",
    "label_status=tk.Label(win,text='PREDICTED DIGIT: NONE',bg='white',font=font_label)\n",
    "label_status.grid(row=2,column=0,columnspan=4)\n",
    "\n",
    "canvas.bind('<B1-Motion>',event_function)\n",
    "img=Image.new('RGB',(width,height),(0,0,0))\n",
    "img_draw=ImageDraw.Draw(img)\n",
    "\n",
    "win.mainloop()"
   ]
  },
  {
   "attachments": {
    "output.PNG": {
     "image/png": "[encoded data removed]"
    }
   },
   "cell_type": "markdown",
   "metadata": {},
   "source": [
    "![output.PNG](attachment:output.PNG)"
   ]
  }
 ],
 "metadata": {
  "kernelspec": {
   "display_name": "Python 3",
   "language": "python",
   "name": "python3"
  },
  "language_info": {
   "codemirror_mode": {
    "name": "ipython",
    "version": 3
   },
   "file_extension": ".py",
   "mimetype": "text/x-python",
   "name": "python",
   "nbconvert_exporter": "python",
   "pygments_lexer": "ipython3",
   "version": "3.8.3"
  }
 },
 "nbformat": 4,
 "nbformat_minor": 2
}
